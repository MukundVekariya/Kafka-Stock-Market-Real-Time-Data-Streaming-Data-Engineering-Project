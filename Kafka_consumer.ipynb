{
 "cells": [
  {
   "cell_type": "code",
   "execution_count": null,
   "id": "7b1b9840",
   "metadata": {},
   "outputs": [],
   "source": [
    "pip install s3fs"
   ]
  },
  {
   "cell_type": "code",
   "execution_count": 30,
   "id": "843b4f8c",
   "metadata": {},
   "outputs": [],
   "source": [
    "from kafka import KafkaConsumer\n",
    "from time import sleep\n",
    "from json import dumps,loads\n",
    "import json\n",
    "from s3fs import S3FileSystem"
   ]
  },
  {
   "cell_type": "code",
   "execution_count": null,
   "id": "fd41aece",
   "metadata": {},
   "outputs": [],
   "source": [
    "consumer = KafkaConsumer(\n",
    "    'test_consumer', # Kafka topic name\n",
    "     bootstrap_servers=['{your IP address here}:9092'], # Add your IP here\n",
    "    value_deserializer=lambda x: loads(x.decode('utf-8')))"
   ]
  },
  {
   "cell_type": "code",
   "execution_count": null,
   "id": "9e982b55",
   "metadata": {},
   "outputs": [],
   "source": [
    "# Create an S3 file system object to read/write files to AWS S3\n",
    "s3 = S3FileSystem()       "
   ]
  },
  {
   "cell_type": "code",
   "execution_count": null,
   "id": "b0009882",
   "metadata": {},
   "outputs": [],
   "source": [
    "# Loop through each message from the Kafka consumer\n",
    "for count, i in enumerate(consumer):                              \n",
    "\n",
    "    # Save each message's value to a JSON file in the S3 bucket                  \n",
    "    with s3.open(\"s3://kafka-stock-market-data-p1-mukund/stock_market_{}.json\".format(count), 'w') as file:    \n",
    "        \n",
    "        # Write the message content as JSON\n",
    "        json.dump(i.value, file) "
   ]
  }
 ],
 "metadata": {
  "kernelspec": {
   "display_name": "Python 3",
   "language": "python",
   "name": "python3"
  },
  "language_info": {
   "codemirror_mode": {
    "name": "ipython",
    "version": 3
   },
   "file_extension": ".py",
   "mimetype": "text/x-python",
   "name": "python",
   "nbconvert_exporter": "python",
   "pygments_lexer": "ipython3",
   "version": "3.9.6"
  }
 },
 "nbformat": 4,
 "nbformat_minor": 5
}
